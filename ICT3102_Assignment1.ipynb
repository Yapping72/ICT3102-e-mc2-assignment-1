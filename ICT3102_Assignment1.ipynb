{
  "nbformat": 4,
  "nbformat_minor": 0,
  "metadata": {
    "colab": {
      "provenance": [],
      "authorship_tag": "ABX9TyNcDZALXiePoDnclB5P+i/x",
      "include_colab_link": true
    },
    "kernelspec": {
      "name": "python3",
      "display_name": "Python 3"
    },
    "language_info": {
      "name": "python"
    }
  },
  "cells": [
    {
      "cell_type": "markdown",
      "metadata": {
        "id": "view-in-github",
        "colab_type": "text"
      },
      "source": [
        "<a href=\"https://colab.research.google.com/github/Yapping72/ICT3102-e-mc2-assignment-1/blob/main/ICT3102_Assignment1.ipynb\" target=\"_parent\"><img src=\"https://colab.research.google.com/assets/colab-badge.svg\" alt=\"Open In Colab\"/></a>"
      ]
    },
    {
      "cell_type": "code",
      "execution_count": null,
      "metadata": {
        "id": "l5584Wl2ebOD"
      },
      "outputs": [],
      "source": [
        "corpus = [\n",
        "    \"The sky is blue.\",\n",
        "    \"I love to read.\",\n",
        "    \"Dogs are loyal pets.\",\n",
        "    \"The sun sets in the west.\",\n",
        "    \"Pizza is my favorite food.\",\n",
        "    \"The ocean is vast and mysterious.\",\n",
        "    \"Cats enjoy chasing mice.\",\n",
        "    \"Basketball is a popular sport.\",\n",
        "    \"Trees provide shade and oxygen.\",\n",
        "    \"Music soothes the soul.\",\n",
        "    \"Rainbows are beautiful after rain.\",\n",
        "    \"I enjoy hiking in nature.\",\n",
        "    \"Writing is a creative outlet.\",\n",
        "    \"Learning is a lifelong journey.\",\n",
        "    \"Flowers bloom in spring.\",\n",
        "    \"The moon glows at night.\",\n",
        "    \"Coffee helps me wake up.\",\n",
        "    \"Travel broadens the mind.\",\n",
        "    \"Science explores the unknown.\",\n",
        "    \"Art inspires and uplifts.\",\n",
        "    \"Silence can be powerful.\",\n",
        "    \"Education is key to success.\",\n",
        "    \"Happiness comes from within.\",\n",
        "    \"Exercise is good for the body.\",\n",
        "    \"Kindness matters in life.\",\n",
        "    \"Family provides support and love.\",\n",
        "    \"Laughter is the best medicine.\",\n",
        "    \"Technology is constantly evolving.\",\n",
        "    \"Success requires hard work.\",\n",
        "    \"Adventure awaits those who seek it.\",\n",
        "    \"Love conquers all.\",\n",
        "    \"A smile brightens someone's day.\",\n",
        "    \"Life is a journey, not a destination.\",\n",
        "    \"Dream big and aim high.\",\n",
        "    \"Patience is a virtue.\",\n",
        "    \"The early bird catches the worm.\",\n",
        "    \"Actions speak louder than words.\",\n",
        "    \"Imagination knows no bounds.\",\n",
        "    \"Courage is facing fear head-on.\",\n",
        "    \"Hope keeps us going.\",\n",
        "    \"Cherish every moment.\",\n",
        "    \"Friendship is a precious gift.\",\n",
        "    \"The world is full of beauty.\",\n",
        "    \"Gratitude brings happiness.\",\n",
        "    \"Change is inevitable, growth is optional.\"\n",
        "]"
      ]
    }
  ]
}